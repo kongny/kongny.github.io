{
 "cells": [
  {
   "cell_type": "markdown",
   "metadata": {},
   "source": [
    "# 统计学中的$p$值\n",
    "\n"
   ]
  },
  {
   "cell_type": "markdown",
   "metadata": {},
   "source": [
    "\n",
    "## 假设检验\n"
   ]
  },
  {
   "cell_type": "markdown",
   "metadata": {},
   "source": [
    "在统计学中，经常要检验两个之间变量之间是否存在相关关系，假设检验就是统计学中用于检验这种假设的一种方法。比如说小A经常在雨天的时候点外卖，然后她可能会想究竟是她一个人还是大家都是这样的，小A假设雨天可能会增加大家点外卖的概率，这是她的假设，为了知道她的假设是否正确，需要对该假设进行检验，即为假设检验。\n",
    " 假设检验的基本思想为小概率假设法。即小概率事件在一次试验中基本不可能发生。比如产品质量检测中，要求产品的合格率为90%，如果产品真的符合标准，那么抽检时，抽到不合格产品的可能性应该较低，如果抽样的结果是10个产品中有8个不合格，在原假设正确的情况下该概率为$$p=C_{10}^8\\times0.9^2\\times 0.1^8={1.8\\times 10^{-10}}$$可以看到这个概率特别特别小，根据小概率原理，如果该事件发生，则认为原假设错误，因为这个可能性在一次抽检时发生的概率很低，那么就有理由怀疑原假设的真实性，从而拒绝原假设。那么这个这个拒绝的标准是什么呢？在试验结果发生的概率有多小时，我们才去拒绝原假设呢？$p$值就是这么一个判别标准。"
   ]
  },
  {
   "cell_type": "markdown",
   "metadata": {},
   "source": [
    "## $p$值    "
   ]
  },
  {
   "cell_type": "markdown",
   "metadata": {},
   "source": [
    "$p$值是判定假设检验结果的一个参数，是原假设为真时可能观测到大于或等于样本观察结果的概率，如果这个概率很小，根据小概率原理，我们就有理由拒绝原假设。在实际进行假设检验时我们会将p值与显著性水平进行比较，如果$p$值比显著性水平小，则拒绝原假设。在小概率原理下，我们将小概率事件视为不可能发生的，这就可能导致我们在原假设是正确的情况下，因为小概率事件的出现，而错误地拒绝了正确的原假设，显著性水平就是我们犯这一错误的可能性。所以在$p$值小于显著性水平时，我们通常认为原假设不可能发生。一般情况下，我们可以人为地设定显著性水平，比如1%，5%，显著性水平越小，就越难拒绝原假设，在原假设正确的情况下拒绝的可能性也就越低，同时在原假设错误情况下接受的可能也就越大。\n",
    "\n",
    "以下可以看一下$p$值在假设检验中的应用。"
   ]
  },
  {
   "cell_type": "code",
   "execution_count": 14,
   "metadata": {},
   "outputs": [],
   "source": [
    "import numpy as np\n",
    "import pandas as pd\n",
    "from scipy import stats\n",
    "import matplotlib.pyplot as plt"
   ]
  },
  {
   "cell_type": "markdown",
   "metadata": {},
   "source": [
    "### 对2013-M1 与2017-M1的空气质量进行检验"
   ]
  },
  {
   "cell_type": "code",
   "execution_count": 10,
   "metadata": {},
   "outputs": [],
   "source": [
    "da = pd.read_csv('/Users/as/Desktop/air_data.csv',header=0,encoding='gbk')"
   ]
  },
  {
   "cell_type": "code",
   "execution_count": 12,
   "metadata": {
    "scrolled": true
   },
   "outputs": [
    {
     "data": {
      "text/html": [
       "<div>\n",
       "<style scoped>\n",
       "    .dataframe tbody tr th:only-of-type {\n",
       "        vertical-align: middle;\n",
       "    }\n",
       "\n",
       "    .dataframe tbody tr th {\n",
       "        vertical-align: top;\n",
       "    }\n",
       "\n",
       "    .dataframe thead th {\n",
       "        text-align: right;\n",
       "    }\n",
       "</style>\n",
       "<table border=\"1\" class=\"dataframe\">\n",
       "  <thead>\n",
       "    <tr style=\"text-align: right;\">\n",
       "      <th></th>\n",
       "      <th>指标名称</th>\n",
       "      <th>空气质量综合指数:北京</th>\n",
       "      <th>空气质量综合指数:石家庄</th>\n",
       "      <th>空气质量综合指数:衡水</th>\n",
       "      <th>空气质量综合指数:徐州</th>\n",
       "      <th>空气质量综合指数:宿迁</th>\n",
       "      <th>空气质量综合指数:丽水</th>\n",
       "      <th>空气质量综合指数:深圳</th>\n",
       "      <th>空气质量综合指数:成都</th>\n",
       "      <th>空气质量综合指数:天津</th>\n",
       "      <th>...</th>\n",
       "      <th>空气质量综合指数:镇江</th>\n",
       "      <th>空气质量综合指数:衢州</th>\n",
       "      <th>空气质量综合指数:武汉</th>\n",
       "      <th>空气质量综合指数:南宁</th>\n",
       "      <th>空气质量综合指数:廊坊</th>\n",
       "      <th>空气质量综合指数:无锡</th>\n",
       "      <th>空气质量综合指数:泰州</th>\n",
       "      <th>空气质量综合指数:舟山</th>\n",
       "      <th>空气质量综合指数:长沙</th>\n",
       "      <th>空气质量综合指数:海口</th>\n",
       "    </tr>\n",
       "  </thead>\n",
       "  <tbody>\n",
       "    <tr>\n",
       "      <th>0</th>\n",
       "      <td>2013-01</td>\n",
       "      <td>17.00</td>\n",
       "      <td>26.50</td>\n",
       "      <td>19.30</td>\n",
       "      <td>10.70</td>\n",
       "      <td>10.70</td>\n",
       "      <td>6.90</td>\n",
       "      <td>6.10</td>\n",
       "      <td>11.90</td>\n",
       "      <td>14.60</td>\n",
       "      <td>...</td>\n",
       "      <td>8.70</td>\n",
       "      <td>8.20</td>\n",
       "      <td>12.50</td>\n",
       "      <td>7.50</td>\n",
       "      <td>20.90</td>\n",
       "      <td>10.70</td>\n",
       "      <td>9.50</td>\n",
       "      <td>5.10</td>\n",
       "      <td>10.50</td>\n",
       "      <td>4.20</td>\n",
       "    </tr>\n",
       "    <tr>\n",
       "      <th>1</th>\n",
       "      <td>2013-02</td>\n",
       "      <td>4.72</td>\n",
       "      <td>9.22</td>\n",
       "      <td>6.58</td>\n",
       "      <td>4.86</td>\n",
       "      <td>3.68</td>\n",
       "      <td>2.28</td>\n",
       "      <td>2.48</td>\n",
       "      <td>5.65</td>\n",
       "      <td>5.12</td>\n",
       "      <td>...</td>\n",
       "      <td>3.13</td>\n",
       "      <td>2.60</td>\n",
       "      <td>4.30</td>\n",
       "      <td>2.33</td>\n",
       "      <td>5.49</td>\n",
       "      <td>3.43</td>\n",
       "      <td>3.67</td>\n",
       "      <td>1.85</td>\n",
       "      <td>3.40</td>\n",
       "      <td>1.62</td>\n",
       "    </tr>\n",
       "    <tr>\n",
       "      <th>2</th>\n",
       "      <td>2013-03</td>\n",
       "      <td>4.80</td>\n",
       "      <td>6.93</td>\n",
       "      <td>5.17</td>\n",
       "      <td>4.13</td>\n",
       "      <td>3.22</td>\n",
       "      <td>2.97</td>\n",
       "      <td>3.02</td>\n",
       "      <td>6.81</td>\n",
       "      <td>4.84</td>\n",
       "      <td>...</td>\n",
       "      <td>3.70</td>\n",
       "      <td>3.53</td>\n",
       "      <td>4.38</td>\n",
       "      <td>3.33</td>\n",
       "      <td>5.58</td>\n",
       "      <td>4.33</td>\n",
       "      <td>3.76</td>\n",
       "      <td>2.23</td>\n",
       "      <td>4.33</td>\n",
       "      <td>1.61</td>\n",
       "    </tr>\n",
       "    <tr>\n",
       "      <th>3</th>\n",
       "      <td>2013-04</td>\n",
       "      <td>3.54</td>\n",
       "      <td>5.62</td>\n",
       "      <td>4.28</td>\n",
       "      <td>3.97</td>\n",
       "      <td>3.67</td>\n",
       "      <td>3.07</td>\n",
       "      <td>2.98</td>\n",
       "      <td>4.42</td>\n",
       "      <td>3.85</td>\n",
       "      <td>...</td>\n",
       "      <td>3.48</td>\n",
       "      <td>3.68</td>\n",
       "      <td>4.03</td>\n",
       "      <td>2.83</td>\n",
       "      <td>3.49</td>\n",
       "      <td>4.37</td>\n",
       "      <td>3.31</td>\n",
       "      <td>2.32</td>\n",
       "      <td>3.87</td>\n",
       "      <td>1.55</td>\n",
       "    </tr>\n",
       "    <tr>\n",
       "      <th>4</th>\n",
       "      <td>2013-05</td>\n",
       "      <td>4.94</td>\n",
       "      <td>6.70</td>\n",
       "      <td>4.69</td>\n",
       "      <td>3.95</td>\n",
       "      <td>3.39</td>\n",
       "      <td>2.53</td>\n",
       "      <td>2.31</td>\n",
       "      <td>3.82</td>\n",
       "      <td>4.60</td>\n",
       "      <td>...</td>\n",
       "      <td>3.53</td>\n",
       "      <td>3.38</td>\n",
       "      <td>4.05</td>\n",
       "      <td>2.97</td>\n",
       "      <td>4.27</td>\n",
       "      <td>3.86</td>\n",
       "      <td>3.45</td>\n",
       "      <td>2.19</td>\n",
       "      <td>3.60</td>\n",
       "      <td>1.48</td>\n",
       "    </tr>\n",
       "  </tbody>\n",
       "</table>\n",
       "<p>5 rows × 75 columns</p>\n",
       "</div>"
      ],
      "text/plain": [
       "      指标名称  空气质量综合指数:北京  空气质量综合指数:石家庄  空气质量综合指数:衡水  空气质量综合指数:徐州  空气质量综合指数:宿迁  \\\n",
       "0  2013-01        17.00         26.50        19.30        10.70        10.70   \n",
       "1  2013-02         4.72          9.22         6.58         4.86         3.68   \n",
       "2  2013-03         4.80          6.93         5.17         4.13         3.22   \n",
       "3  2013-04         3.54          5.62         4.28         3.97         3.67   \n",
       "4  2013-05         4.94          6.70         4.69         3.95         3.39   \n",
       "\n",
       "   空气质量综合指数:丽水  空气质量综合指数:深圳  空气质量综合指数:成都  空气质量综合指数:天津     ...       \\\n",
       "0         6.90         6.10        11.90        14.60     ...        \n",
       "1         2.28         2.48         5.65         5.12     ...        \n",
       "2         2.97         3.02         6.81         4.84     ...        \n",
       "3         3.07         2.98         4.42         3.85     ...        \n",
       "4         2.53         2.31         3.82         4.60     ...        \n",
       "\n",
       "   空气质量综合指数:镇江  空气质量综合指数:衢州  空气质量综合指数:武汉  空气质量综合指数:南宁  空气质量综合指数:廊坊  \\\n",
       "0         8.70         8.20        12.50         7.50        20.90   \n",
       "1         3.13         2.60         4.30         2.33         5.49   \n",
       "2         3.70         3.53         4.38         3.33         5.58   \n",
       "3         3.48         3.68         4.03         2.83         3.49   \n",
       "4         3.53         3.38         4.05         2.97         4.27   \n",
       "\n",
       "   空气质量综合指数:无锡  空气质量综合指数:泰州  空气质量综合指数:舟山  空气质量综合指数:长沙  空气质量综合指数:海口  \n",
       "0        10.70         9.50         5.10        10.50         4.20  \n",
       "1         3.43         3.67         1.85         3.40         1.62  \n",
       "2         4.33         3.76         2.23         4.33         1.61  \n",
       "3         4.37         3.31         2.32         3.87         1.55  \n",
       "4         3.86         3.45         2.19         3.60         1.48  \n",
       "\n",
       "[5 rows x 75 columns]"
      ]
     },
     "execution_count": 12,
     "metadata": {},
     "output_type": "execute_result"
    }
   ],
   "source": [
    "da.head()"
   ]
  },
  {
   "cell_type": "markdown",
   "metadata": {},
   "source": [
    "### 进行$T$检验\n",
    "我们通过$T$检验，检验2013-M1空气质量均值与2017-M1空气质量是否有显著差异\n",
    "\n",
    "$H_0: \\mu_1 = \\mu_2$ \n",
    "\n",
    "$H_1: \\mu_1 \\neq \\mu_2$"
   ]
  },
  {
   "cell_type": "code",
   "execution_count": 15,
   "metadata": {
    "scrolled": true
   },
   "outputs": [
    {
     "data": {
      "text/plain": [
       "Ttest_indResult(statistic=0.26833823296238857, pvalue=0.788494433695651)"
      ]
     },
     "execution_count": 15,
     "metadata": {},
     "output_type": "execute_result"
    }
   ],
   "source": [
    "# examples of stats documentation\n",
    "np.random.seed(12345678)\n",
    "rvs1 = stats.norm.rvs(loc=5,scale=10,size=500)\n",
    "rvs2 = stats.norm.rvs(loc=5,scale=10,size=500)\n",
    "stats.ttest_ind(rvs1,rvs2)"
   ]
  },
  {
   "cell_type": "markdown",
   "metadata": {},
   "source": [
    "### 通过网上的t-test资料学习\n",
    "参考了[T-test using Python](https://towardsdatascience.com/inferential-statistics-series-t-test-using-numpy-2718f8f9bf2f)，根据空气指数数据集，对2017年1月与2013年1月空气质量进行T检验，判断是否有显著差异"
   ]
  },
  {
   "cell_type": "code",
   "execution_count": 16,
   "metadata": {},
   "outputs": [],
   "source": [
    "da_201301 = da.iloc[0,:]\n",
    "da_201701 = da.iloc[46,:]\n",
    "da_201301 = list(da_201301[1:])\n",
    "da_201701 = list(da_201701[1:])"
   ]
  },
  {
   "cell_type": "code",
   "execution_count": 17,
   "metadata": {},
   "outputs": [],
   "source": [
    "var_201301 = np.var(da_201301,ddof=1)\n",
    "var_201701 = np.var(da_201701,ddof=1)\n",
    "std = np.sqrt((var_201301+var_201701)/2)\n",
    "t = (np.mean(da_201301) - np.mean(da_201701))/(std*np.sqrt(2/len(da_201301)))"
   ]
  },
  {
   "cell_type": "code",
   "execution_count": 18,
   "metadata": {},
   "outputs": [],
   "source": [
    "df = 2*len(da_201301) - 2\n",
    "p = 1 - stats.t.cdf(t,df=df)"
   ]
  },
  {
   "cell_type": "code",
   "execution_count": 19,
   "metadata": {},
   "outputs": [
    {
     "name": "stdout",
     "output_type": "stream",
     "text": [
      "t=5.379221884487025\n",
      "p=2.9079197116921307e-07\n"
     ]
    }
   ],
   "source": [
    "print(\"t=\" + str(t))\n",
    "print(\"p=\" + str(2*p))"
   ]
  },
  {
   "cell_type": "code",
   "execution_count": 20,
   "metadata": {},
   "outputs": [
    {
     "name": "stdout",
     "output_type": "stream",
     "text": [
      "t2 = 5.379221884487025\n",
      "p2 = 2.907919711731525e-07\n"
     ]
    }
   ],
   "source": [
    "# use stats.ttest_ind()\n",
    "t2,p2 = stats.ttest_ind(da_201301,da_201701)\n",
    "print(\"t2 = \"+str(t2))\n",
    "print(\"p2 = \" +str(p2))"
   ]
  },
  {
   "cell_type": "markdown",
   "metadata": {},
   "source": [
    "\n",
    "   ## $p$值存在的问题\n",
    "       "
   ]
  },
  {
   "cell_type": "markdown",
   "metadata": {},
   "source": [
    "尽管$p$值的应用范围如此之广，基本上所有要发表的科学论文的结论都是建立在$p$的“统计学显著”上，但是$p$值本身存在的一些性质可能导致$p$值的误用和滥用。\n",
    "1. 统计推断检验的只是变量的相关关系而不是因果关系，因此$p$值显著性水平高不代表两个变量之间存在因果关系。\n",
    "2. $p$值应当在大样本范围内应用，因为实际在做假设检验时，通常是应用大样本下中心极限定理以及渐近分布，如果是小样本情况下，中心极限定理和渐近分布不成立，$p$值也就会偏离实际值很远。\n",
    "3. $p$值是在假设$H_0$即原假设为真的条件下，出现数据$D$的可能性，即为$P(D|H_0)$,但是我们实际想要得到的是$P(H_0|D)$,即在已有数据D的情况下判断$H_0$出现的可能性。$P(H_0|D)=\\frac{P(D|H_0)\\times P(H_0)}{P(D)}$,因此当$P(H_0)$过大或者$P(D)$值过小时，都会影响实际的$P(H_0|D)$，从而导致$p$值得预测不准确。\n"
   ]
  },
  {
   "cell_type": "markdown",
   "metadata": {},
   "source": [
    "## 参考文献"
   ]
  },
  {
   "cell_type": "markdown",
   "metadata": {},
   "source": [
    "[1][统计学基础--假设检验](https://blog.csdn.net/andy_shenzl/article/details/81453509)\n",
    "\n",
    "[2]The Truth About P-Values\n",
    "\n",
    "[3][T-test using Python](https://towardsdatascience.com/inferential-statistics-series-t-test-using-numpy-2718f8f9bf2f)"
   ]
  }
 ],
 "metadata": {
  "kernelspec": {
   "display_name": "Python 3",
   "language": "python",
   "name": "python3"
  },
  "language_info": {
   "codemirror_mode": {
    "name": "ipython",
    "version": 3
   },
   "file_extension": ".py",
   "mimetype": "text/x-python",
   "name": "python",
   "nbconvert_exporter": "python",
   "pygments_lexer": "ipython3",
   "version": "3.7.1"
  }
 },
 "nbformat": 4,
 "nbformat_minor": 2
}
